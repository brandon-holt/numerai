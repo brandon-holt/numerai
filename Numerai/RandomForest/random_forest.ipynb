{
 "cells": [
  {
   "cell_type": "markdown",
   "id": "utility-eligibility",
   "metadata": {
    "papermill": {
     "duration": 0.010778,
     "end_time": "2021-08-30T13:53:19.688758",
     "exception": false,
     "start_time": "2021-08-30T13:53:19.677980",
     "status": "completed"
    },
    "tags": []
   },
   "source": [
    "# Numerai Round 252\n",
    "\n",
    "## Parameter Vector Model\n",
    "\n",
    "Goals this round:\n",
    "- Train the model with correlation, not average distance from target\n",
    "- Use validation data before submission\n",
    "\n",
    "Train the model to find a golden parameter vector of equal dimensionality, plus one extra dimension for weight. \n",
    "\n",
    "To predict the target, calculate the angle (cosine distance), and the relative magnitude between teh parameter vector. Let the weight"
   ]
  },
  {
   "cell_type": "markdown",
   "id": "intense-spending",
   "metadata": {
    "papermill": {
     "duration": 0.008877,
     "end_time": "2021-08-30T13:53:19.706980",
     "exception": false,
     "start_time": "2021-08-30T13:53:19.698103",
     "status": "completed"
    },
    "tags": []
   },
   "source": [
    "### 1. Prepare Notebook\n",
    "\n",
    "#### Column descriptions\n",
    "*   id: a randomized id that corresponds to a stock \n",
    "*   era: a period of time\n",
    "*   data_type: either `train`, `validation`, `test`, or `live` \n",
    "*   feature_*: abstract financial features of the stock \n",
    "*   target: abstract measure of stock performance"
   ]
  },
  {
   "cell_type": "markdown",
   "id": "multiple-occasions",
   "metadata": {
    "papermill": {
     "duration": 0.00782,
     "end_time": "2021-08-30T13:53:19.723354",
     "exception": false,
     "start_time": "2021-08-30T13:53:19.715534",
     "status": "completed"
    },
    "tags": []
   },
   "source": [
    "##### Install Dependencies and Import Packages"
   ]
  },
  {
   "cell_type": "code",
   "execution_count": 1,
   "id": "bridal-packaging",
   "metadata": {
    "execution": {
     "iopub.execute_input": "2021-08-30T13:53:19.750381Z",
     "iopub.status.busy": "2021-08-30T13:53:19.749534Z",
     "iopub.status.idle": "2021-08-30T13:53:22.733748Z",
     "shell.execute_reply": "2021-08-30T13:53:22.734395Z"
    },
    "papermill": {
     "duration": 3.002546,
     "end_time": "2021-08-30T13:53:22.734704",
     "exception": false,
     "start_time": "2021-08-30T13:53:19.732158",
     "status": "completed"
    },
    "tags": []
   },
   "outputs": [],
   "source": [
    "# !pip install pandas sklearn numerapi\n",
    "# !pip install tqdm npm ipywidgets\n",
    "# !jupyter nbextension enable --py widgetsnbextension\n",
    "# !jupyter labextension install @jupyter-widgets/jupyterlab-manager\n",
    "# !pip install ipympl\n",
    "# %matplotlib widget\n",
    "# !jupyter labextension install jupyter-matplotlib\n",
    "# !jupyter labextension install @jupyter-widgets/jupyterlab-manager jupyter-matplotlib\n",
    "# !pip3 install papermill\n",
    "\n",
    "# import dependencies\n",
    "import pandas as pd\n",
    "from scipy.spatial import distance\n",
    "from os import path\n",
    "from tqdm.notebook import tqdm, trange\n",
    "import numpy\n",
    "import math\n",
    "import random as rand\n",
    "import numerapi\n",
    "import time\n",
    "import sys\n",
    "import matplotlib.pyplot as plt\n",
    "from IPython.display import clear_output\n",
    "from sklearn.ensemble import RandomForestClassifier\n",
    "import papermill"
   ]
  },
  {
   "cell_type": "markdown",
   "id": "maritime-scale",
   "metadata": {
    "papermill": {
     "duration": 0.008153,
     "end_time": "2021-08-30T13:53:22.753166",
     "exception": false,
     "start_time": "2021-08-30T13:53:22.745013",
     "status": "completed"
    },
    "tags": []
   },
   "source": [
    "##### General Functions"
   ]
  },
  {
   "cell_type": "code",
   "execution_count": 2,
   "id": "extensive-architecture",
   "metadata": {
    "execution": {
     "iopub.execute_input": "2021-08-30T13:53:22.775005Z",
     "iopub.status.busy": "2021-08-30T13:53:22.774205Z",
     "iopub.status.idle": "2021-08-30T13:53:22.776065Z",
     "shell.execute_reply": "2021-08-30T13:53:22.776610Z"
    },
    "papermill": {
     "duration": 0.015966,
     "end_time": "2021-08-30T13:53:22.776795",
     "exception": false,
     "start_time": "2021-08-30T13:53:22.760829",
     "status": "completed"
    },
    "tags": []
   },
   "outputs": [],
   "source": [
    "def clamp(my_value, min_value, max_value):\n",
    "    return max(min(my_value, max_value), min_value)\n",
    "\n",
    "def clamparray(array, min_val, max_val):\n",
    "    for i in range(len(array)):\n",
    "        array[i] = clamp(array[i], min_val, max_val)\n",
    "    return array\n",
    "\n",
    "def format_y(df): return (4 * df.target).astype(int)"
   ]
  },
  {
   "cell_type": "markdown",
   "id": "friendly-venture",
   "metadata": {
    "papermill": {
     "duration": 0.007288,
     "end_time": "2021-08-30T13:53:22.791036",
     "exception": false,
     "start_time": "2021-08-30T13:53:22.783748",
     "status": "completed"
    },
    "tags": []
   },
   "source": [
    "##### Download Latest Data"
   ]
  },
  {
   "cell_type": "code",
   "execution_count": 3,
   "id": "parliamentary-wrapping",
   "metadata": {
    "execution": {
     "iopub.execute_input": "2021-08-30T13:53:22.815765Z",
     "iopub.status.busy": "2021-08-30T13:53:22.814633Z",
     "iopub.status.idle": "2021-08-30T13:59:02.006980Z",
     "shell.execute_reply": "2021-08-30T13:59:02.005342Z"
    },
    "papermill": {
     "duration": 339.206593,
     "end_time": "2021-08-30T13:59:02.007485",
     "exception": false,
     "start_time": "2021-08-30T13:53:22.800892",
     "status": "completed"
    },
    "tags": []
   },
   "outputs": [
    {
     "data": {
      "text/html": [
       "<div>\n",
       "<style scoped>\n",
       "    .dataframe tbody tr th:only-of-type {\n",
       "        vertical-align: middle;\n",
       "    }\n",
       "\n",
       "    .dataframe tbody tr th {\n",
       "        vertical-align: top;\n",
       "    }\n",
       "\n",
       "    .dataframe thead th {\n",
       "        text-align: right;\n",
       "    }\n",
       "</style>\n",
       "<table border=\"1\" class=\"dataframe\">\n",
       "  <thead>\n",
       "    <tr style=\"text-align: right;\">\n",
       "      <th></th>\n",
       "      <th>id</th>\n",
       "      <th>era</th>\n",
       "      <th>data_type</th>\n",
       "      <th>feature_intelligence1</th>\n",
       "      <th>feature_intelligence2</th>\n",
       "      <th>feature_intelligence3</th>\n",
       "      <th>feature_intelligence4</th>\n",
       "      <th>feature_intelligence5</th>\n",
       "      <th>feature_intelligence6</th>\n",
       "      <th>feature_intelligence7</th>\n",
       "      <th>...</th>\n",
       "      <th>feature_wisdom38</th>\n",
       "      <th>feature_wisdom39</th>\n",
       "      <th>feature_wisdom40</th>\n",
       "      <th>feature_wisdom41</th>\n",
       "      <th>feature_wisdom42</th>\n",
       "      <th>feature_wisdom43</th>\n",
       "      <th>feature_wisdom44</th>\n",
       "      <th>feature_wisdom45</th>\n",
       "      <th>feature_wisdom46</th>\n",
       "      <th>target</th>\n",
       "    </tr>\n",
       "  </thead>\n",
       "  <tbody>\n",
       "    <tr>\n",
       "      <th>0</th>\n",
       "      <td>n0003aa52cab36c2</td>\n",
       "      <td>era121</td>\n",
       "      <td>validation</td>\n",
       "      <td>0.25</td>\n",
       "      <td>0.75</td>\n",
       "      <td>0.50</td>\n",
       "      <td>0.50</td>\n",
       "      <td>0.0</td>\n",
       "      <td>0.75</td>\n",
       "      <td>0.5</td>\n",
       "      <td>...</td>\n",
       "      <td>0.75</td>\n",
       "      <td>0.75</td>\n",
       "      <td>1.00</td>\n",
       "      <td>0.75</td>\n",
       "      <td>0.50</td>\n",
       "      <td>0.5</td>\n",
       "      <td>1.0</td>\n",
       "      <td>0.00</td>\n",
       "      <td>0.00</td>\n",
       "      <td>0.25</td>\n",
       "    </tr>\n",
       "    <tr>\n",
       "      <th>1</th>\n",
       "      <td>n000920ed083903f</td>\n",
       "      <td>era121</td>\n",
       "      <td>validation</td>\n",
       "      <td>0.75</td>\n",
       "      <td>0.50</td>\n",
       "      <td>0.75</td>\n",
       "      <td>1.00</td>\n",
       "      <td>0.5</td>\n",
       "      <td>0.00</td>\n",
       "      <td>0.0</td>\n",
       "      <td>...</td>\n",
       "      <td>0.50</td>\n",
       "      <td>0.50</td>\n",
       "      <td>0.75</td>\n",
       "      <td>1.00</td>\n",
       "      <td>0.75</td>\n",
       "      <td>0.5</td>\n",
       "      <td>0.5</td>\n",
       "      <td>0.50</td>\n",
       "      <td>0.50</td>\n",
       "      <td>0.50</td>\n",
       "    </tr>\n",
       "    <tr>\n",
       "      <th>2</th>\n",
       "      <td>n0038e640522c4a6</td>\n",
       "      <td>era121</td>\n",
       "      <td>validation</td>\n",
       "      <td>1.00</td>\n",
       "      <td>0.00</td>\n",
       "      <td>0.00</td>\n",
       "      <td>1.00</td>\n",
       "      <td>1.0</td>\n",
       "      <td>1.00</td>\n",
       "      <td>1.0</td>\n",
       "      <td>...</td>\n",
       "      <td>0.00</td>\n",
       "      <td>0.00</td>\n",
       "      <td>0.50</td>\n",
       "      <td>0.25</td>\n",
       "      <td>0.00</td>\n",
       "      <td>0.0</td>\n",
       "      <td>0.5</td>\n",
       "      <td>0.50</td>\n",
       "      <td>0.00</td>\n",
       "      <td>1.00</td>\n",
       "    </tr>\n",
       "    <tr>\n",
       "      <th>3</th>\n",
       "      <td>n004ac94a87dc54b</td>\n",
       "      <td>era121</td>\n",
       "      <td>validation</td>\n",
       "      <td>0.75</td>\n",
       "      <td>1.00</td>\n",
       "      <td>1.00</td>\n",
       "      <td>0.50</td>\n",
       "      <td>0.0</td>\n",
       "      <td>0.00</td>\n",
       "      <td>0.0</td>\n",
       "      <td>...</td>\n",
       "      <td>0.00</td>\n",
       "      <td>0.00</td>\n",
       "      <td>0.00</td>\n",
       "      <td>0.25</td>\n",
       "      <td>0.00</td>\n",
       "      <td>0.0</td>\n",
       "      <td>0.0</td>\n",
       "      <td>0.25</td>\n",
       "      <td>0.25</td>\n",
       "      <td>0.50</td>\n",
       "    </tr>\n",
       "    <tr>\n",
       "      <th>4</th>\n",
       "      <td>n0052fe97ea0c05f</td>\n",
       "      <td>era121</td>\n",
       "      <td>validation</td>\n",
       "      <td>0.25</td>\n",
       "      <td>0.50</td>\n",
       "      <td>0.50</td>\n",
       "      <td>0.25</td>\n",
       "      <td>1.0</td>\n",
       "      <td>0.50</td>\n",
       "      <td>0.5</td>\n",
       "      <td>...</td>\n",
       "      <td>0.50</td>\n",
       "      <td>0.75</td>\n",
       "      <td>0.00</td>\n",
       "      <td>0.00</td>\n",
       "      <td>0.75</td>\n",
       "      <td>1.0</td>\n",
       "      <td>0.0</td>\n",
       "      <td>0.25</td>\n",
       "      <td>1.00</td>\n",
       "      <td>0.75</td>\n",
       "    </tr>\n",
       "  </tbody>\n",
       "</table>\n",
       "<p>5 rows × 314 columns</p>\n",
       "</div>"
      ],
      "text/plain": [
       "                 id     era   data_type  feature_intelligence1  \\\n",
       "0  n0003aa52cab36c2  era121  validation                   0.25   \n",
       "1  n000920ed083903f  era121  validation                   0.75   \n",
       "2  n0038e640522c4a6  era121  validation                   1.00   \n",
       "3  n004ac94a87dc54b  era121  validation                   0.75   \n",
       "4  n0052fe97ea0c05f  era121  validation                   0.25   \n",
       "\n",
       "   feature_intelligence2  feature_intelligence3  feature_intelligence4  \\\n",
       "0                   0.75                   0.50                   0.50   \n",
       "1                   0.50                   0.75                   1.00   \n",
       "2                   0.00                   0.00                   1.00   \n",
       "3                   1.00                   1.00                   0.50   \n",
       "4                   0.50                   0.50                   0.25   \n",
       "\n",
       "   feature_intelligence5  feature_intelligence6  feature_intelligence7  ...  \\\n",
       "0                    0.0                   0.75                    0.5  ...   \n",
       "1                    0.5                   0.00                    0.0  ...   \n",
       "2                    1.0                   1.00                    1.0  ...   \n",
       "3                    0.0                   0.00                    0.0  ...   \n",
       "4                    1.0                   0.50                    0.5  ...   \n",
       "\n",
       "   feature_wisdom38  feature_wisdom39  feature_wisdom40  feature_wisdom41  \\\n",
       "0              0.75              0.75              1.00              0.75   \n",
       "1              0.50              0.50              0.75              1.00   \n",
       "2              0.00              0.00              0.50              0.25   \n",
       "3              0.00              0.00              0.00              0.25   \n",
       "4              0.50              0.75              0.00              0.00   \n",
       "\n",
       "   feature_wisdom42  feature_wisdom43  feature_wisdom44  feature_wisdom45  \\\n",
       "0              0.50               0.5               1.0              0.00   \n",
       "1              0.75               0.5               0.5              0.50   \n",
       "2              0.00               0.0               0.5              0.50   \n",
       "3              0.00               0.0               0.0              0.25   \n",
       "4              0.75               1.0               0.0              0.25   \n",
       "\n",
       "   feature_wisdom46  target  \n",
       "0              0.00    0.25  \n",
       "1              0.50    0.50  \n",
       "2              0.00    1.00  \n",
       "3              0.25    0.50  \n",
       "4              1.00    0.75  \n",
       "\n",
       "[5 rows x 314 columns]"
      ]
     },
     "execution_count": 3,
     "metadata": {},
     "output_type": "execute_result"
    }
   ],
   "source": [
    "# download the latest training dataset (takes around 30s)\n",
    "training_data = pd.read_csv(\"https://numerai-public-datasets.s3-us-west-2.amazonaws.com/latest_numerai_training_data.csv.xz\")\n",
    "# download the latest tournament dataset (takes around 30s)\n",
    "tournament_data = pd.read_csv(\"https://numerai-public-datasets.s3-us-west-2.amazonaws.com/latest_numerai_tournament_data.csv.xz\")\n",
    "tournament_data.head()"
   ]
  },
  {
   "cell_type": "markdown",
   "id": "supreme-prague",
   "metadata": {
    "papermill": {
     "duration": 0.012255,
     "end_time": "2021-08-30T13:59:02.041509",
     "exception": false,
     "start_time": "2021-08-30T13:59:02.029254",
     "status": "completed"
    },
    "tags": []
   },
   "source": [
    "### 2. Train the Model"
   ]
  },
  {
   "cell_type": "code",
   "execution_count": 4,
   "id": "stuck-wright",
   "metadata": {
    "execution": {
     "iopub.execute_input": "2021-08-30T13:59:22.406031Z",
     "iopub.status.busy": "2021-08-30T13:59:22.401067Z",
     "iopub.status.idle": "2021-08-30T14:07:54.678110Z",
     "shell.execute_reply": "2021-08-30T14:07:54.678619Z"
    },
    "papermill": {
     "duration": 532.627625,
     "end_time": "2021-08-30T14:07:54.680215",
     "exception": false,
     "start_time": "2021-08-30T13:59:02.052590",
     "status": "completed"
    },
    "tags": []
   },
   "outputs": [
    {
     "data": {
      "text/plain": [
       "RandomForestClassifier()"
      ]
     },
     "execution_count": 4,
     "metadata": {},
     "output_type": "execute_result"
    }
   ],
   "source": [
    "# find only the feature columns\n",
    "feature_cols = training_data.columns[training_data.columns.str.startswith('feature')]\n",
    "training_features = training_data[feature_cols]\n",
    "\n",
    "model = RandomForestClassifier()\n",
    "X = training_features\n",
    "y = format_y(training_data)\n",
    "model.fit(X, y)"
   ]
  },
  {
   "cell_type": "markdown",
   "id": "hybrid-macro",
   "metadata": {
    "papermill": {
     "duration": 0.03379,
     "end_time": "2021-08-30T14:07:54.727978",
     "exception": false,
     "start_time": "2021-08-30T14:07:54.694188",
     "status": "completed"
    },
    "tags": []
   },
   "source": [
    "### 3. Validate Model"
   ]
  },
  {
   "cell_type": "code",
   "execution_count": 5,
   "id": "square-reggae",
   "metadata": {
    "execution": {
     "iopub.execute_input": "2021-08-30T14:07:54.811440Z",
     "iopub.status.busy": "2021-08-30T14:07:54.809340Z",
     "iopub.status.idle": "2021-08-30T14:10:49.265238Z",
     "shell.execute_reply": "2021-08-30T14:10:49.268327Z"
    },
    "papermill": {
     "duration": 174.533492,
     "end_time": "2021-08-30T14:10:49.272117",
     "exception": false,
     "start_time": "2021-08-30T14:07:54.738625",
     "status": "completed"
    },
    "tags": []
   },
   "outputs": [
    {
     "name": "stdout",
     "output_type": "stream",
     "text": [
      "Validation Correlation = -0.0004\n"
     ]
    },
    {
     "name": "stdout",
     "output_type": "stream",
     "text": [
      "Validation mean accuracy = 0.49604076092873367\n"
     ]
    }
   ],
   "source": [
    "# get data from the tournament data which include answers (i.e., drop rows where target = NaN)\n",
    "feature_cols = tournament_data.columns[tournament_data.columns.str.startswith('feature')]\n",
    "validation_data = tournament_data.copy().dropna()\n",
    "validation_features = validation_data[feature_cols]\n",
    "\n",
    "# make predictions on validation data\n",
    "validation_targets = format_y(validation_data)\n",
    "validation_predictions = model.predict(validation_features)\n",
    "\n",
    "# plot predictions vs targets, and calculate correlation\n",
    "corr = round(numpy.corrcoef(validation_targets, validation_predictions)[0, 1], 4)\n",
    "print(\"Validation Correlation = \" + str(corr))\n",
    "acc = model.score(validation_features, validation_targets)\n",
    "print(\"Validation mean accuracy = \" + str(acc))"
   ]
  },
  {
   "cell_type": "markdown",
   "id": "living-contrary",
   "metadata": {
    "papermill": {
     "duration": 0.017873,
     "end_time": "2021-08-30T14:10:49.343436",
     "exception": false,
     "start_time": "2021-08-30T14:10:49.325563",
     "status": "completed"
    },
    "tags": []
   },
   "source": [
    "### 4. Generate Predictions"
   ]
  },
  {
   "cell_type": "code",
   "execution_count": 6,
   "id": "valued-watts",
   "metadata": {
    "execution": {
     "iopub.execute_input": "2021-08-30T14:11:38.669320Z",
     "iopub.status.busy": "2021-08-30T14:11:38.603977Z",
     "iopub.status.idle": "2021-08-30T14:29:52.369494Z",
     "shell.execute_reply": "2021-08-30T14:29:52.370699Z"
    },
    "papermill": {
     "duration": 1143.017548,
     "end_time": "2021-08-30T14:29:52.372443",
     "exception": false,
     "start_time": "2021-08-30T14:10:49.354895",
     "status": "completed"
    },
    "tags": []
   },
   "outputs": [
    {
     "data": {
      "text/html": [
       "<div>\n",
       "<style scoped>\n",
       "    .dataframe tbody tr th:only-of-type {\n",
       "        vertical-align: middle;\n",
       "    }\n",
       "\n",
       "    .dataframe tbody tr th {\n",
       "        vertical-align: top;\n",
       "    }\n",
       "\n",
       "    .dataframe thead th {\n",
       "        text-align: right;\n",
       "    }\n",
       "</style>\n",
       "<table border=\"1\" class=\"dataframe\">\n",
       "  <thead>\n",
       "    <tr style=\"text-align: right;\">\n",
       "      <th></th>\n",
       "      <th>id</th>\n",
       "      <th>prediction_kazutsugi</th>\n",
       "    </tr>\n",
       "  </thead>\n",
       "  <tbody>\n",
       "    <tr>\n",
       "      <th>0</th>\n",
       "      <td>n0003aa52cab36c2</td>\n",
       "      <td>0.5</td>\n",
       "    </tr>\n",
       "    <tr>\n",
       "      <th>1</th>\n",
       "      <td>n000920ed083903f</td>\n",
       "      <td>0.5</td>\n",
       "    </tr>\n",
       "    <tr>\n",
       "      <th>2</th>\n",
       "      <td>n0038e640522c4a6</td>\n",
       "      <td>0.5</td>\n",
       "    </tr>\n",
       "    <tr>\n",
       "      <th>3</th>\n",
       "      <td>n004ac94a87dc54b</td>\n",
       "      <td>0.5</td>\n",
       "    </tr>\n",
       "    <tr>\n",
       "      <th>4</th>\n",
       "      <td>n0052fe97ea0c05f</td>\n",
       "      <td>0.5</td>\n",
       "    </tr>\n",
       "  </tbody>\n",
       "</table>\n",
       "</div>"
      ],
      "text/plain": [
       "                 id  prediction_kazutsugi\n",
       "0  n0003aa52cab36c2                   0.5\n",
       "1  n000920ed083903f                   0.5\n",
       "2  n0038e640522c4a6                   0.5\n",
       "3  n004ac94a87dc54b                   0.5\n",
       "4  n0052fe97ea0c05f                   0.5"
      ]
     },
     "execution_count": 6,
     "metadata": {},
     "output_type": "execute_result"
    }
   ],
   "source": [
    "# select the feature columns from the tournament data\n",
    "live_features = tournament_data[feature_cols]\n",
    "\n",
    "# predict the target on the live features\n",
    "predictions = model.predict(live_features) / 4.0 # back to 0.25 increments\n",
    "\n",
    "# predictions must have an `id` column and a `prediction_kazutsugi` column\n",
    "predictions_df = tournament_data[\"id\"].to_frame()\n",
    "predictions_df[\"prediction_kazutsugi\"] = predictions\n",
    "predictions_df.head()"
   ]
  },
  {
   "cell_type": "markdown",
   "id": "thrown-backup",
   "metadata": {
    "papermill": {
     "duration": 0.011459,
     "end_time": "2021-08-30T14:29:52.403098",
     "exception": false,
     "start_time": "2021-08-30T14:29:52.391639",
     "status": "completed"
    },
    "tags": []
   },
   "source": [
    "### 5. Submit Predictions"
   ]
  },
  {
   "cell_type": "code",
   "execution_count": 7,
   "id": "artificial-approval",
   "metadata": {
    "execution": {
     "iopub.execute_input": "2021-08-30T14:29:52.577247Z",
     "iopub.status.busy": "2021-08-30T14:29:52.569492Z",
     "iopub.status.idle": "2021-08-30T14:30:34.819901Z",
     "shell.execute_reply": "2021-08-30T14:30:34.820418Z"
    },
    "papermill": {
     "duration": 42.406951,
     "end_time": "2021-08-30T14:30:34.820625",
     "exception": false,
     "start_time": "2021-08-30T14:29:52.413674",
     "status": "completed"
    },
    "tags": []
   },
   "outputs": [
    {
     "name": "stderr",
     "output_type": "stream",
     "text": [
      "2021-08-30 10:29:55,990 INFO numerapi.base_api: uploading predictions...\n"
     ]
    },
    {
     "name": "stdout",
     "output_type": "stream",
     "text": [
      "submitted!\n"
     ]
    }
   ],
   "source": [
    "# Get API keys and model_id from https://numer.ai/submit\n",
    "public_id = \"JQSPCE2MKNH2BDULWMLU7SERQF4YDACE\"\n",
    "secret_key = \"BLZJU3NECY3ZOZ6TXBY5XR7LY2VC3DFH4UVXF3VVWTE2P5NS7EZL73UUOMOH5BZH\"\n",
    "model_id = \"777a91f4-d61e-43dc-8b96-1ec25afd1da4\"\n",
    "napi = numerapi.NumerAPI(public_id=public_id, secret_key=secret_key)\n",
    "predictions_df.to_csv(\"predictions.csv\", index=False)\n",
    "submission_id = napi.upload_predictions(\"predictions.csv\", model_id=model_id)\n",
    "print('submitted!')"
   ]
  },
  {
   "cell_type": "markdown",
   "id": "heard-henry",
   "metadata": {
    "papermill": {
     "duration": 0.19385,
     "end_time": "2021-08-30T14:30:35.157488",
     "exception": false,
     "start_time": "2021-08-30T14:30:34.963638",
     "status": "completed"
    },
    "tags": []
   },
   "source": [
    "##### Done!"
   ]
  }
 ],
 "metadata": {
  "kernelspec": {
   "display_name": "Python 3",
   "language": "python",
   "name": "python3"
  },
  "language_info": {
   "codemirror_mode": {
    "name": "ipython",
    "version": 3
   },
   "file_extension": ".py",
   "mimetype": "text/x-python",
   "name": "python",
   "nbconvert_exporter": "python",
   "pygments_lexer": "ipython3",
   "version": "3.9.1"
  },
  "papermill": {
   "default_parameters": {},
   "duration": 2243.55197,
   "end_time": "2021-08-30T14:30:41.474326",
   "environment_variables": {},
   "exception": null,
   "input_path": "./random_forest.ipynb",
   "output_path": "./random_forest.ipynb",
   "parameters": {},
   "start_time": "2021-08-30T13:53:17.922356",
   "version": "2.3.3"
  }
 },
 "nbformat": 4,
 "nbformat_minor": 5
}