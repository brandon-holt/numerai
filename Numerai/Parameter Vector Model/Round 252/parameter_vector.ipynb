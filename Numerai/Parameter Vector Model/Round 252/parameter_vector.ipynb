{
 "cells": [
  {
   "cell_type": "markdown",
   "id": "exciting-credit",
   "metadata": {},
   "source": [
    "# Numerai Round 252\n",
    "\n",
    "## Parameter Vector Model\n",
    "\n",
    "Goals this round:\n",
    "- Train the model with correlation, not average distance from target\n",
    "- Use validation data before submission\n",
    "\n",
    "Train the model to find a golden parameter vector of equal dimensionality, plus one extra dimension for weight. \n",
    "\n",
    "To predict the target, calculate the angle (cosine distance), and the relative magnitude between teh parameter vector. Let the weight"
   ]
  },
  {
   "cell_type": "markdown",
   "id": "frank-audit",
   "metadata": {},
   "source": [
    "### 1. Prepare Notebook\n",
    "\n",
    "#### Column descriptions\n",
    "*   id: a randomized id that corresponds to a stock \n",
    "*   era: a period of time\n",
    "*   data_type: either `train`, `validation`, `test`, or `live` \n",
    "*   feature_*: abstract financial features of the stock \n",
    "*   target: abstract measure of stock performance"
   ]
  },
  {
   "cell_type": "markdown",
   "id": "powered-radio",
   "metadata": {},
   "source": [
    "##### Install Dependencies and Import Packages"
   ]
  },
  {
   "cell_type": "code",
   "execution_count": 1,
   "id": "narrow-specialist",
   "metadata": {},
   "outputs": [],
   "source": [
    "# !pip install pandas sklearn numerapi\n",
    "# !pip install tqdm npm ipywidgets\n",
    "# !jupyter nbextension enable --py widgetsnbextension\n",
    "# !jupyter labextension install @jupyter-widgets/jupyterlab-manager\n",
    "# !pip install ipympl\n",
    "# %matplotlib widget\n",
    "# !jupyter labextension install jupyter-matplotlib\n",
    "# !jupyter labextension install @jupyter-widgets/jupyterlab-manager jupyter-matplotlib\n",
    "\n",
    "# import dependencies\n",
    "import pandas as pd\n",
    "from scipy.spatial import distance\n",
    "from os import path\n",
    "from tqdm.notebook import tqdm, trange\n",
    "import numpy\n",
    "import math\n",
    "import random as rand\n",
    "import numerapi\n",
    "import time\n",
    "import sys\n",
    "import matplotlib.pyplot as plt\n",
    "from IPython.display import clear_output"
   ]
  },
  {
   "cell_type": "markdown",
   "id": "judicial-denmark",
   "metadata": {},
   "source": [
    "##### General Functions"
   ]
  },
  {
   "cell_type": "code",
   "execution_count": 2,
   "id": "completed-bibliography",
   "metadata": {},
   "outputs": [],
   "source": [
    "def savemodel():\n",
    "    global golden_weight\n",
    "    global golden_parameter\n",
    "    w = numpy.array(golden_weight, dtype=numpy.float32)\n",
    "    p = numpy.array(golden_parameter, dtype=numpy.float32)\n",
    "    model = numpy.append(w, p)\n",
    "    numpy.savetxt('model.csv', model, delimiter=',')\n",
    "    print(\"Model saved!\")\n",
    "    \n",
    "def loadmodel():\n",
    "    global golden_weight\n",
    "    global golden_parameter\n",
    "    global weight\n",
    "    global parameter\n",
    "    \n",
    "    if path.exists('model.csv'):\n",
    "        model_data = numpy.loadtxt('model.csv')\n",
    "        golden_weight = model_data[0]\n",
    "        golden_parameter = model_data[1:]\n",
    "    else:\n",
    "        golden_parameter = numpy.random.rand(num_features, 1)\n",
    "        golden_weight = numpy.random.random()\n",
    "    \n",
    "    weight = golden_weight\n",
    "    parameter = golden_parameter\n",
    "    model_data = None\n",
    "    \n",
    "def predict(stock, parameter, w):\n",
    "    dist_stock = math.sqrt(sum(pow(element, 2) for element in stock))\n",
    "    dist_param = math.sqrt(sum(pow(element, 2) for element in parameter))\n",
    "    if dist_stock == 0 or dist_param == 0:\n",
    "        dist = 0\n",
    "    else:\n",
    "        dist = min(dist_stock / dist_param, dist_param / dist_stock)\n",
    "    angle = distance.cosine(stock, parameter)\n",
    "    return (w * dist) + ((1 - w) * angle)\n",
    "\n",
    "def updatedelta(dt):\n",
    "    global delta_weight\n",
    "    global delta_param\n",
    "    delta = dt * math.pow(-1,rand.randint(1,2)) # step size\n",
    "    delta_weight = delta * numpy.random.random()\n",
    "    delta_param = delta * numpy.random.rand(num_features, 1)\n",
    "    \n",
    "def updateparams(p, w):\n",
    "    global weight\n",
    "    weight = clamp(w + delta_weight, 0, 1)\n",
    "    global parameter\n",
    "    parameter = numpy.add(numpy.ndarray.flatten(p), numpy.ndarray.flatten(delta_param))\n",
    "    parameter = clamparray(parameter, 0, 1)\n",
    "    \n",
    "def clamp(my_value, min_value, max_value):\n",
    "    return max(min(my_value, max_value), min_value)\n",
    "\n",
    "def clamparray(array, min_val, max_val):\n",
    "    for i in range(len(array)):\n",
    "        array[i] = clamp(array[i], min_val, max_val)\n",
    "    return array"
   ]
  },
  {
   "cell_type": "markdown",
   "id": "rotary-sustainability",
   "metadata": {},
   "source": [
    "##### Download Latest Data"
   ]
  },
  {
   "cell_type": "code",
   "execution_count": 3,
   "id": "chemical-update",
   "metadata": {},
   "outputs": [
    {
     "data": {
      "text/html": [
       "<div>\n",
       "<style scoped>\n",
       "    .dataframe tbody tr th:only-of-type {\n",
       "        vertical-align: middle;\n",
       "    }\n",
       "\n",
       "    .dataframe tbody tr th {\n",
       "        vertical-align: top;\n",
       "    }\n",
       "\n",
       "    .dataframe thead th {\n",
       "        text-align: right;\n",
       "    }\n",
       "</style>\n",
       "<table border=\"1\" class=\"dataframe\">\n",
       "  <thead>\n",
       "    <tr style=\"text-align: right;\">\n",
       "      <th></th>\n",
       "      <th>id</th>\n",
       "      <th>era</th>\n",
       "      <th>data_type</th>\n",
       "      <th>feature_intelligence1</th>\n",
       "      <th>feature_intelligence2</th>\n",
       "      <th>feature_intelligence3</th>\n",
       "      <th>feature_intelligence4</th>\n",
       "      <th>feature_intelligence5</th>\n",
       "      <th>feature_intelligence6</th>\n",
       "      <th>feature_intelligence7</th>\n",
       "      <th>...</th>\n",
       "      <th>feature_wisdom38</th>\n",
       "      <th>feature_wisdom39</th>\n",
       "      <th>feature_wisdom40</th>\n",
       "      <th>feature_wisdom41</th>\n",
       "      <th>feature_wisdom42</th>\n",
       "      <th>feature_wisdom43</th>\n",
       "      <th>feature_wisdom44</th>\n",
       "      <th>feature_wisdom45</th>\n",
       "      <th>feature_wisdom46</th>\n",
       "      <th>target</th>\n",
       "    </tr>\n",
       "  </thead>\n",
       "  <tbody>\n",
       "    <tr>\n",
       "      <th>0</th>\n",
       "      <td>n0003aa52cab36c2</td>\n",
       "      <td>era121</td>\n",
       "      <td>validation</td>\n",
       "      <td>0.25</td>\n",
       "      <td>0.75</td>\n",
       "      <td>0.50</td>\n",
       "      <td>0.50</td>\n",
       "      <td>0.0</td>\n",
       "      <td>0.75</td>\n",
       "      <td>0.5</td>\n",
       "      <td>...</td>\n",
       "      <td>0.75</td>\n",
       "      <td>0.75</td>\n",
       "      <td>1.00</td>\n",
       "      <td>0.75</td>\n",
       "      <td>0.50</td>\n",
       "      <td>0.5</td>\n",
       "      <td>1.0</td>\n",
       "      <td>0.00</td>\n",
       "      <td>0.00</td>\n",
       "      <td>0.25</td>\n",
       "    </tr>\n",
       "    <tr>\n",
       "      <th>1</th>\n",
       "      <td>n000920ed083903f</td>\n",
       "      <td>era121</td>\n",
       "      <td>validation</td>\n",
       "      <td>0.75</td>\n",
       "      <td>0.50</td>\n",
       "      <td>0.75</td>\n",
       "      <td>1.00</td>\n",
       "      <td>0.5</td>\n",
       "      <td>0.00</td>\n",
       "      <td>0.0</td>\n",
       "      <td>...</td>\n",
       "      <td>0.50</td>\n",
       "      <td>0.50</td>\n",
       "      <td>0.75</td>\n",
       "      <td>1.00</td>\n",
       "      <td>0.75</td>\n",
       "      <td>0.5</td>\n",
       "      <td>0.5</td>\n",
       "      <td>0.50</td>\n",
       "      <td>0.50</td>\n",
       "      <td>0.50</td>\n",
       "    </tr>\n",
       "    <tr>\n",
       "      <th>2</th>\n",
       "      <td>n0038e640522c4a6</td>\n",
       "      <td>era121</td>\n",
       "      <td>validation</td>\n",
       "      <td>1.00</td>\n",
       "      <td>0.00</td>\n",
       "      <td>0.00</td>\n",
       "      <td>1.00</td>\n",
       "      <td>1.0</td>\n",
       "      <td>1.00</td>\n",
       "      <td>1.0</td>\n",
       "      <td>...</td>\n",
       "      <td>0.00</td>\n",
       "      <td>0.00</td>\n",
       "      <td>0.50</td>\n",
       "      <td>0.25</td>\n",
       "      <td>0.00</td>\n",
       "      <td>0.0</td>\n",
       "      <td>0.5</td>\n",
       "      <td>0.50</td>\n",
       "      <td>0.00</td>\n",
       "      <td>1.00</td>\n",
       "    </tr>\n",
       "    <tr>\n",
       "      <th>3</th>\n",
       "      <td>n004ac94a87dc54b</td>\n",
       "      <td>era121</td>\n",
       "      <td>validation</td>\n",
       "      <td>0.75</td>\n",
       "      <td>1.00</td>\n",
       "      <td>1.00</td>\n",
       "      <td>0.50</td>\n",
       "      <td>0.0</td>\n",
       "      <td>0.00</td>\n",
       "      <td>0.0</td>\n",
       "      <td>...</td>\n",
       "      <td>0.00</td>\n",
       "      <td>0.00</td>\n",
       "      <td>0.00</td>\n",
       "      <td>0.25</td>\n",
       "      <td>0.00</td>\n",
       "      <td>0.0</td>\n",
       "      <td>0.0</td>\n",
       "      <td>0.25</td>\n",
       "      <td>0.25</td>\n",
       "      <td>0.50</td>\n",
       "    </tr>\n",
       "    <tr>\n",
       "      <th>4</th>\n",
       "      <td>n0052fe97ea0c05f</td>\n",
       "      <td>era121</td>\n",
       "      <td>validation</td>\n",
       "      <td>0.25</td>\n",
       "      <td>0.50</td>\n",
       "      <td>0.50</td>\n",
       "      <td>0.25</td>\n",
       "      <td>1.0</td>\n",
       "      <td>0.50</td>\n",
       "      <td>0.5</td>\n",
       "      <td>...</td>\n",
       "      <td>0.50</td>\n",
       "      <td>0.75</td>\n",
       "      <td>0.00</td>\n",
       "      <td>0.00</td>\n",
       "      <td>0.75</td>\n",
       "      <td>1.0</td>\n",
       "      <td>0.0</td>\n",
       "      <td>0.25</td>\n",
       "      <td>1.00</td>\n",
       "      <td>0.75</td>\n",
       "    </tr>\n",
       "  </tbody>\n",
       "</table>\n",
       "<p>5 rows × 314 columns</p>\n",
       "</div>"
      ],
      "text/plain": [
       "                 id     era   data_type  feature_intelligence1  \\\n",
       "0  n0003aa52cab36c2  era121  validation                   0.25   \n",
       "1  n000920ed083903f  era121  validation                   0.75   \n",
       "2  n0038e640522c4a6  era121  validation                   1.00   \n",
       "3  n004ac94a87dc54b  era121  validation                   0.75   \n",
       "4  n0052fe97ea0c05f  era121  validation                   0.25   \n",
       "\n",
       "   feature_intelligence2  feature_intelligence3  feature_intelligence4  \\\n",
       "0                   0.75                   0.50                   0.50   \n",
       "1                   0.50                   0.75                   1.00   \n",
       "2                   0.00                   0.00                   1.00   \n",
       "3                   1.00                   1.00                   0.50   \n",
       "4                   0.50                   0.50                   0.25   \n",
       "\n",
       "   feature_intelligence5  feature_intelligence6  feature_intelligence7  ...  \\\n",
       "0                    0.0                   0.75                    0.5  ...   \n",
       "1                    0.5                   0.00                    0.0  ...   \n",
       "2                    1.0                   1.00                    1.0  ...   \n",
       "3                    0.0                   0.00                    0.0  ...   \n",
       "4                    1.0                   0.50                    0.5  ...   \n",
       "\n",
       "   feature_wisdom38  feature_wisdom39  feature_wisdom40  feature_wisdom41  \\\n",
       "0              0.75              0.75              1.00              0.75   \n",
       "1              0.50              0.50              0.75              1.00   \n",
       "2              0.00              0.00              0.50              0.25   \n",
       "3              0.00              0.00              0.00              0.25   \n",
       "4              0.50              0.75              0.00              0.00   \n",
       "\n",
       "   feature_wisdom42  feature_wisdom43  feature_wisdom44  feature_wisdom45  \\\n",
       "0              0.50               0.5               1.0              0.00   \n",
       "1              0.75               0.5               0.5              0.50   \n",
       "2              0.00               0.0               0.5              0.50   \n",
       "3              0.00               0.0               0.0              0.25   \n",
       "4              0.75               1.0               0.0              0.25   \n",
       "\n",
       "   feature_wisdom46  target  \n",
       "0              0.00    0.25  \n",
       "1              0.50    0.50  \n",
       "2              0.00    1.00  \n",
       "3              0.25    0.50  \n",
       "4              1.00    0.75  \n",
       "\n",
       "[5 rows x 314 columns]"
      ]
     },
     "execution_count": 3,
     "metadata": {},
     "output_type": "execute_result"
    }
   ],
   "source": [
    "# download the latest training dataset (takes around 30s)\n",
    "training_data = pd.read_csv(\"https://numerai-public-datasets.s3-us-west-2.amazonaws.com/latest_numerai_training_data.csv.xz\")\n",
    "# download the latest tournament dataset (takes around 30s)\n",
    "tournament_data = pd.read_csv(\"https://numerai-public-datasets.s3-us-west-2.amazonaws.com/latest_numerai_tournament_data.csv.xz\")\n",
    "tournament_data.head()"
   ]
  },
  {
   "cell_type": "markdown",
   "id": "apparent-rouge",
   "metadata": {},
   "source": [
    "### 2. Train the Model"
   ]
  },
  {
   "cell_type": "code",
   "execution_count": 4,
   "id": "parliamentary-disability",
   "metadata": {},
   "outputs": [
    {
     "name": "stdout",
     "output_type": "stream",
     "text": [
      "Correlation = nan Current best = 0.0174 Num. improvements this round = 2 No improvement, trying again...\n"
     ]
    },
    {
     "data": {
      "application/vnd.jupyter.widget-view+json": {
       "model_id": "85b704a03b1b4755be38fd9d20276365",
       "version_major": 2,
       "version_minor": 0
      },
      "text/plain": [
       "  0%|          | 0/50181 [00:00<?, ?it/s]"
      ]
     },
     "metadata": {},
     "output_type": "display_data"
    }
   ],
   "source": [
    "# find only the feature columns\n",
    "feature_cols = training_data.columns[training_data.columns.str.startswith('feature')]\n",
    "training_features = training_data[feature_cols]\n",
    "num_features = len(training_features.columns)\n",
    "\n",
    "# load the model if we have a saved csv\n",
    "loadmodel()\n",
    "\n",
    "# parameters\n",
    "delta_size = 0.05 # 1 = random jumping, 0 = same every time, small = tiny steps\n",
    "skip_rows = 10 # 1 = use all data, >1 = skip this many rows at a time\n",
    "num_improvements = 0 # number of improvements this run\n",
    "updatedelta(delta_size) # initialize the delta parameter, will still start with golden_parameter\n",
    "best_correlation = float('-inf') # always win on first try. if we are loading, we are using golden, so doesnt hurt to still save\n",
    "running = True\n",
    "search_mode = \"last\"; # \"last\" = update from last parameter, \"best\" = update from golden parameter\n",
    "\n",
    "# keep looping to optimize the parameter vector and weight\n",
    "while running:\n",
    "    try:\n",
    "        # loop through each row in the training set, only with a randomly selected subset\n",
    "        selected_features = training_features.iloc[::skip_rows, :]\n",
    "        train_predictions = []\n",
    "        train_targets = []\n",
    "        for index, stock in tqdm(selected_features.iterrows(), total=len(selected_features.index)):\n",
    "            pred = training_data.target.values[index]\n",
    "            targ = predict(stock.values, parameter, weight)\n",
    "            train_predictions.append(pred)\n",
    "            train_targets.append(targ)\n",
    "        # calculate correlation and determine if its a new high\n",
    "        clear_output(wait=True)\n",
    "        this_correlation = numpy.corrcoef(train_targets, train_predictions)[0, 1]\n",
    "        if this_correlation > best_correlation:\n",
    "            golden_parameter = parameter\n",
    "            golden_weight = weight\n",
    "            best_correlation = this_correlation\n",
    "            savemodel()\n",
    "            num_improvements += 1\n",
    "            print(\"New best correlation is\", round(best_correlation,4))\n",
    "        else:\n",
    "            updatedelta(delta_size) # only change our direction if we were not successful this round\n",
    "            print(\"Correlation =\", round(this_correlation, 4), \"Current best =\", round(best_correlation,4), \"Num. improvements this round =\", num_improvements, \"No improvement, trying again...\")\n",
    "        # update the parameters at the end of every round\n",
    "        if search_mode == \"last\": updateparams(golden_parameter, golden_weight)\n",
    "        if search_mode == \"best\": updateparams(parameter, weight)\n",
    "    except KeyboardInterrupt:\n",
    "        running = False"
   ]
  },
  {
   "cell_type": "markdown",
   "id": "academic-flashing",
   "metadata": {},
   "source": [
    "### 3. Validate Model"
   ]
  },
  {
   "cell_type": "code",
   "execution_count": null,
   "id": "brief-family",
   "metadata": {},
   "outputs": [],
   "source": [
    "try: lin_preds\n",
    "except NameError: lin_preds = None\n",
    "\n",
    "if lin_preds is None:\n",
    "    import sklearn.linear_model\n",
    "    model = sklearn.linear_model.LinearRegression()\n",
    "    model.fit(training_features, training_data.target)\n",
    "    lin_preds = model.predict(training_features)\n",
    "\n",
    "these_targets = training_data.target.values\n",
    "rand_preds = numpy.ndarray.flatten(numpy.random.rand(these_targets.shape[0], 1))\n",
    "plt.rcParams['figure.figsize'] = [20, 5]\n",
    "plt.subplot(1,3,1)\n",
    "plt.hist(numpy.absolute(numpy.subtract(these_targets, rand_preds)))\n",
    "plt.title('Error Distribution Random Guess')\n",
    "plt.subplot(1,3,2)\n",
    "plt.hist(numpy.absolute(numpy.subtract(these_targets, lin_preds)))\n",
    "plt.title('Error Distribution Linear Regression')\n",
    "plt.subplot(1,3,3)\n",
    "plt.hist(numpy.absolute(numpy.subtract(train_targets, train_predictions)))\n",
    "plt.title('Error Distribution Latest Model')\n",
    "plt.show()"
   ]
  },
  {
   "cell_type": "code",
   "execution_count": 7,
   "id": "recreational-brief",
   "metadata": {},
   "outputs": [
    {
     "data": {
      "application/vnd.jupyter.widget-view+json": {
       "model_id": "882ff4f7d60d49e3941c21094c462d46",
       "version_major": 2,
       "version_minor": 0
      },
      "text/plain": [
       "  0%|          | 0/501808 [00:00<?, ?it/s]"
      ]
     },
     "metadata": {},
     "output_type": "display_data"
    },
    {
     "data": {
      "application/vnd.jupyter.widget-view+json": {
       "model_id": "83c44f3661434cc78f48b2e85af7d1c5",
       "version_major": 2,
       "version_minor": 0
      },
      "text/plain": [
       "  0%|          | 0/1660502 [00:00<?, ?it/s]"
      ]
     },
     "metadata": {},
     "output_type": "display_data"
    },
    {
     "data": {
      "image/png": "[encoded data removed]",
      "text/plain": [
       "<Figure size 1440x360 with 3 Axes>"
      ]
     },
     "metadata": {
      "needs_background": "light"
     },
     "output_type": "display_data"
    }
   ],
   "source": [
    "# select the feature columns from the tournament data\n",
    "feature_cols = tournament_data.columns[tournament_data.columns.str.startswith('feature')]\n",
    "training_features = training_data[feature_cols]\n",
    "live_features = tournament_data[feature_cols]\n",
    "\n",
    "# predict the target on the live features\n",
    "loadmodel()\n",
    "\n",
    "training_predictions = []\n",
    "training_targets = []\n",
    "for index, stock in tqdm(training_features.iterrows(), total = len(training_features.index)):\n",
    "    this_target = training_data.target.values[index]\n",
    "    if math.isnan(this_target):\n",
    "        continue\n",
    "    training_predictions.append(predict(stock.values, golden_parameter, golden_weight))\n",
    "    training_targets.append(this_target)\n",
    "    \n",
    "validation_predictions = []\n",
    "validation_targets = []\n",
    "for index, stock in tqdm(live_features.iterrows(), total = len(live_features.index)):\n",
    "    this_target = tournament_data.target.values[index]\n",
    "    if math.isnan(this_target):\n",
    "        continue\n",
    "    validation_predictions.append(predict(stock.values, golden_parameter, golden_weight))\n",
    "    validation_targets.append(this_target)\n",
    "    \n",
    "# calculate linear model predictions as benchmark\n",
    "try: lin_preds\n",
    "except NameError: lin_preds = None\n",
    "\n",
    "if lin_preds is None:\n",
    "    import sklearn.linear_model\n",
    "    model = sklearn.linear_model.LinearRegression()\n",
    "    model.fit(training_features, training_data.target)\n",
    "    lin_preds = model.predict(training_features)\n",
    "\n",
    "# plot predictions vs targets, and calculate correlation\n",
    "plt.rcParams['figure.figsize'] = [20, 5]\n",
    "plt.subplot(1,3,1)\n",
    "plt.scatter(training_data.target.values, lin_preds)\n",
    "corr = round(numpy.corrcoef(training_data.target.values, lin_preds)[0, 1], 4)\n",
    "plt.title(\"Full Training Correlation (Linear) = \" + str(corr))\n",
    "plt.subplot(1,3,2)\n",
    "plt.scatter(training_targets, training_predictions)\n",
    "corr = round(numpy.corrcoef(training_targets, training_predictions)[0, 1], 4)\n",
    "plt.title(\"Full Training Correlation = \" + str(corr))\n",
    "plt.subplot(1,3,3)\n",
    "plt.scatter(validation_targets, validation_predictions)\n",
    "corr = round(numpy.corrcoef(validation_targets, validation_predictions)[0, 1], 4)\n",
    "plt.title(\"Validation Correlation = \" + str(corr))\n",
    "plt.show()"
   ]
  },
  {
   "cell_type": "markdown",
   "id": "scientific-pointer",
   "metadata": {},
   "source": [
    "### 4. Generate Predictions"
   ]
  },
  {
   "cell_type": "code",
   "execution_count": 8,
   "id": "described-rachel",
   "metadata": {},
   "outputs": [
    {
     "data": {
      "application/vnd.jupyter.widget-view+json": {
       "model_id": "c7e3b80d43e7406797fad85d422b272f",
       "version_major": 2,
       "version_minor": 0
      },
      "text/plain": [
       "  0%|          | 0/1660502 [00:00<?, ?it/s]"
      ]
     },
     "metadata": {},
     "output_type": "display_data"
    },
    {
     "data": {
      "text/html": [
       "<div>\n",
       "<style scoped>\n",
       "    .dataframe tbody tr th:only-of-type {\n",
       "        vertical-align: middle;\n",
       "    }\n",
       "\n",
       "    .dataframe tbody tr th {\n",
       "        vertical-align: top;\n",
       "    }\n",
       "\n",
       "    .dataframe thead th {\n",
       "        text-align: right;\n",
       "    }\n",
       "</style>\n",
       "<table border=\"1\" class=\"dataframe\">\n",
       "  <thead>\n",
       "    <tr style=\"text-align: right;\">\n",
       "      <th></th>\n",
       "      <th>id</th>\n",
       "      <th>prediction_kazutsugi</th>\n",
       "    </tr>\n",
       "  </thead>\n",
       "  <tbody>\n",
       "    <tr>\n",
       "      <th>0</th>\n",
       "      <td>n0003aa52cab36c2</td>\n",
       "      <td>0.929426</td>\n",
       "    </tr>\n",
       "    <tr>\n",
       "      <th>1</th>\n",
       "      <td>n000920ed083903f</td>\n",
       "      <td>0.895990</td>\n",
       "    </tr>\n",
       "    <tr>\n",
       "      <th>2</th>\n",
       "      <td>n0038e640522c4a6</td>\n",
       "      <td>0.934362</td>\n",
       "    </tr>\n",
       "    <tr>\n",
       "      <th>3</th>\n",
       "      <td>n004ac94a87dc54b</td>\n",
       "      <td>0.932116</td>\n",
       "    </tr>\n",
       "    <tr>\n",
       "      <th>4</th>\n",
       "      <td>n0052fe97ea0c05f</td>\n",
       "      <td>0.950093</td>\n",
       "    </tr>\n",
       "  </tbody>\n",
       "</table>\n",
       "</div>"
      ],
      "text/plain": [
       "                 id  prediction_kazutsugi\n",
       "0  n0003aa52cab36c2              0.929426\n",
       "1  n000920ed083903f              0.895990\n",
       "2  n0038e640522c4a6              0.934362\n",
       "3  n004ac94a87dc54b              0.932116\n",
       "4  n0052fe97ea0c05f              0.950093"
      ]
     },
     "execution_count": 8,
     "metadata": {},
     "output_type": "execute_result"
    }
   ],
   "source": [
    "# select the feature columns from the tournament data\n",
    "feature_cols = tournament_data.columns[tournament_data.columns.str.startswith('feature')]\n",
    "live_features = tournament_data[feature_cols]\n",
    "\n",
    "# predict the target on the live features\n",
    "loadmodel()\n",
    "predictions = numpy.zeros(len(live_features.index))\n",
    "for index, stock in tqdm(live_features.iterrows(), total = len(predictions)):\n",
    "    predictions[index] = predict(stock.values, golden_parameter, golden_weight)\n",
    "\n",
    "# predictions must have an `id` column and a `prediction_kazutsugi` column\n",
    "predictions_df = tournament_data[\"id\"].to_frame()\n",
    "predictions_df[\"prediction_kazutsugi\"] = predictions\n",
    "predictions_df.head()"
   ]
  },
  {
   "cell_type": "markdown",
   "id": "ongoing-orientation",
   "metadata": {},
   "source": [
    "### 5. Submit Predictions"
   ]
  },
  {
   "cell_type": "code",
   "execution_count": null,
   "id": "inside-frank",
   "metadata": {},
   "outputs": [
    {
     "name": "stderr",
     "output_type": "stream",
     "text": [
      "2021-02-21 11:22:57,992 INFO numerapi.base_api: uploading predictions...\n"
     ]
    }
   ],
   "source": [
    "# Get API keys and model_id from https://numer.ai/submit\n",
    "public_id = \"JQSPCE2MKNH2BDULWMLU7SERQF4YDACE\"\n",
    "secret_key = \"BLZJU3NECY3ZOZ6TXBY5XR7LY2VC3DFH4UVXF3VVWTE2P5NS7EZL73UUOMOH5BZH\"\n",
    "model_id = \"777a91f4-d61e-43dc-8b96-1ec25afd1da4\"\n",
    "napi = numerapi.NumerAPI(public_id=public_id, secret_key=secret_key)\n",
    "predictions_df.to_csv(\"predictions.csv\", index=False)\n",
    "submission_id = napi.upload_predictions(\"predictions.csv\", model_id=model_id)"
   ]
  },
  {
   "cell_type": "markdown",
   "id": "changing-prague",
   "metadata": {},
   "source": [
    "##### Done!"
   ]
  }
 ],
 "metadata": {
  "kernelspec": {
   "display_name": "Python 3",
   "language": "python",
   "name": "python3"
  },
  "language_info": {
   "codemirror_mode": {
    "name": "ipython",
    "version": 3
   },
   "file_extension": ".py",
   "mimetype": "text/x-python",
   "name": "python",
   "nbconvert_exporter": "python",
   "pygments_lexer": "ipython3",
   "version": "3.9.1"
  }
 },
 "nbformat": 4,
 "nbformat_minor": 5
}
